{
 "cells": [
  {
   "cell_type": "markdown",
   "metadata": {
    "deletable": true,
    "editable": true
   },
   "source": [
    "# Problem Set 4: Networks"
   ]
  },
  {
   "cell_type": "markdown",
   "metadata": {
    "deletable": true,
    "editable": true
   },
   "source": [
    "### Mapping Social Activism Groups in Pennsylvania"
   ]
  },
  {
   "cell_type": "markdown",
   "metadata": {
    "deletable": true,
    "editable": true
   },
   "source": [
    "In this problem set we are going to be working with social data to visualize a network of activism groups. The data is provided by the DUSP CoLab Mapping Resistance project, and contains 41 grassroots social activism and civic justice groups in Pennsylvania. The dataset we provide contains the number of Twitter followers for each of the groups, along with a list of ids of each follower. Our goal is to get a better picture of the social connectivity of these groups, and figure out which of the groups share Twitter followers, and of the ones that share followers, how many are the same.\n",
    "\n",
    "The data was scraped from Twitter using the REST API, not too unlike what we did last week. It is provided to you in JSON (JavaScript Object Notation) format in the **jsons** folder in your materials.\n",
    "\n",
    "We will give you the functions we used to aggregate and create the network datasets, your job is to build the network using NetworkX.\n",
    "\n",
    "First, we will read in the data. While **NetworkX** has a number of built-in functions to import data, and directly construct a network, our data doesn't follow their requirements. We will select it through **pandas**, and then we will build the network procedurally using Python functions.\n",
    "\n",
    "The steps we take look like the following:\n",
    "\n",
    "1. Load the list of social justice groups\n",
    "2. Create nodes\n",
    "3. Create edges\n",
    "4. Construct the NetworkX drawing"
   ]
  },
  {
   "cell_type": "code",
   "execution_count": null,
   "metadata": {
    "collapsed": true,
    "deletable": true,
    "editable": true
   },
   "outputs": [],
   "source": [
    "# Import some libraries to work with\n",
    "from os import listdir\n",
    "from os.path import isfile, join\n",
    "import json\n",
    "import numpy as np\n",
    "import pandas as pd\n",
    "import matplotlib.pyplot as plt\n",
    "\n",
    "# This allows plots to appear on the IPython notebook.\n",
    "%matplotlib inline "
   ]
  },
  {
   "cell_type": "markdown",
   "metadata": {
    "deletable": true,
    "editable": true
   },
   "source": [
    "### Load the Social Justice Groups\n",
    "\n",
    "We have a spreadsheet of collected social justice organizations in Pennsylvania, 41 of them to be exact. We also have a folder of JSON datasets that contain the Twitter followers for each. From this, we can work towards building a network. To start, let's load our spreadsheet of organizations and create a list of the twitter names so we can build a function that will automatically load the JSONS. There is a CSV named `social_justice_orgs_pa.csv` that contains the names of each of the organizations, their twitter handles, and a bunch of other information.\n",
    "\n",
    "Load this CSV, and create a Python list of twitter handles we can loop through."
   ]
  },
  {
   "cell_type": "code",
   "execution_count": null,
   "metadata": {
    "collapsed": false,
    "deletable": true,
    "editable": true
   },
   "outputs": [],
   "source": [
    "df = pd.read_csv('social_justice_orgs_pa.csv')\n",
    "df"
   ]
  },
  {
   "cell_type": "markdown",
   "metadata": {},
   "source": [
    "Create a list of groups from the Twitter handles. We can loop through this collect our data (already done!) and then to load our files for processing"
   ]
  },
  {
   "cell_type": "code",
   "execution_count": null,
   "metadata": {
    "collapsed": false,
    "deletable": true,
    "editable": true
   },
   "outputs": [],
   "source": [
    "groups = df['twitter_name'].tolist()\n",
    "groups"
   ]
  },
  {
   "cell_type": "markdown",
   "metadata": {
    "deletable": true,
    "editable": true
   },
   "source": [
    "### Create the Data for our Network Nodes\n",
    "\n",
    "Next, let's create the data for our nodes, the groups themselves. We want to create a list where each item in the list contains the name of the group (the Twitter handle), and the number of followers. We can use the number of followers as the weight in our network.\n",
    "\n",
    "**Take a look at the data**\n",
    "\n",
    "Open the **jsons** folder and see our collection of JSONs. Each one of these files contains a JSON dataset with a property named **name** that is the name of the groups Twitter handle, and a property named **ids** that is a list of all of the ids of users that follow that account.\n",
    "\n",
    "**Loop through and grab the data**\n",
    "\n",
    "To do this, I've created a function called **create_nodes** that loops through our list, finding files with the matching name, then pulls out the **name** and a count of the ids (number of followers). For example, below, run it and see that **1lovemovement1** has 391 Twitter followers."
   ]
  },
  {
   "cell_type": "code",
   "execution_count": null,
   "metadata": {
    "collapsed": false,
    "deletable": true,
    "editable": true
   },
   "outputs": [],
   "source": [
    "def create_nodes(g):\n",
    "    nodes = []\n",
    "    for i in g:\n",
    "        node_data = open('jsons/'+ i + 'tweets.json')\n",
    "        node_data_json = json.load(node_data)\n",
    "        node_element = [node_data_json['name'], len(node_data_json['ids'])]\n",
    "        nodes.append(node_element)\n",
    "    return nodes\n",
    "\n",
    "nodes = create_nodes(groups)\n",
    "nodes"
   ]
  },
  {
   "cell_type": "markdown",
   "metadata": {
    "deletable": true,
    "editable": true
   },
   "source": [
    "We can use this list for our nodes.\n",
    "\n",
    "### Create the Data for our Network Edges\n",
    "\n",
    "Now, let's process the data files to create our edge data. This is a bit more complex because we have to some matching betweem accounts. We want each edge in the network to have a connection if there are common followers, and then for the weight of that connection to be the number of common followers.\n",
    "\n",
    "To do this, I've create a function that loads each file, grabs the list of ids, then for each id, loads each file again and checks to see if there are matches between the datasets. Its a loop nested within a loop. To find the matches, we are using something call [set](https://docs.python.org/3/tutorial/datastructures.html#sets). Within the inner loop, it will populate a new array with the names of each of the groups, and the number of common followers.\n",
    "\n",
    "The function, in the end, will look as follows, and our output will be an array with each element representing a pair of Twitter handles, and a number representing the number of common followers."
   ]
  },
  {
   "cell_type": "code",
   "execution_count": null,
   "metadata": {
    "collapsed": false,
    "deletable": true,
    "editable": true
   },
   "outputs": [],
   "source": [
    "# create edges by opening the datasets, then finding matches and saving the number of common followers\n",
    "def create_edges(g):\n",
    "    network_edges = []\n",
    "    for i in g:\n",
    "        group_1 = open('jsons/'+ i + 'tweets.json')\n",
    "        group_1_json = json.load(group_1)\n",
    "        group_1_followers = group_1_json['ids']\n",
    "        for j in g:\n",
    "            group_2 = open('jsons/'+ j + 'tweets.json')\n",
    "            group_2_json = json.load(group_2)\n",
    "            group_2_followers = group_2_json['ids']\n",
    "            common_followers = len(set(group_1_followers) & set(group_2_followers))\n",
    "            node1 = group_1_json['name']\n",
    "            node2 = group_2_json['name']\n",
    "            edge = str(common_followers)\n",
    "            zipped = ([node1, node2], edge)\n",
    "            network_edges.append(zipped)        \n",
    "    return network_edges\n",
    "\n",
    "# Create a variable\n",
    "edges = create_edges(groups)\n",
    "\n",
    "edges"
   ]
  },
  {
   "cell_type": "markdown",
   "metadata": {},
   "source": [
    "#### Clean the Data\n",
    "\n",
    "This data is messy, it contains bidirectional duplications, and zero values represent no common followers (no edge!) so we need to do some cleaning to get it ready.\n",
    "\n",
    "I've written up a function here that reads in our messy edge array, sorts them to find duplicates by testing equality, then finds zero values and finds nodes, and creates and returns an array with all of these scrubbed out."
   ]
  },
  {
   "cell_type": "code",
   "execution_count": null,
   "metadata": {
    "collapsed": false,
    "deletable": true,
    "editable": true
   },
   "outputs": [],
   "source": [
    "# Check for bidirectional duplicates and remove them\n",
    "def sort_the_edges(network_edges):\n",
    "    sorted_list = []\n",
    "    edges_no_duplicates = []\n",
    "    edges_no_zeros = []\n",
    "    edges_no_nodes = []\n",
    "    for i in network_edges:\n",
    "        sorted_i = sorted(i[0])\n",
    "        node1 = sorted_i[0]\n",
    "        node2 = sorted_i[1]\n",
    "        edge = i[1]\n",
    "        zipped = [node1, node2, int(edge)]\n",
    "        sorted_list.append(zipped)\n",
    "    for i in sorted_list:\n",
    "        if i not in edges_no_duplicates:\n",
    "            edges_no_duplicates.append(i)\n",
    "    for i in edges_no_duplicates:\n",
    "        if i[2] != 0:\n",
    "            edges_no_zeros.append(i)\n",
    "    for i in edges_no_zeros:\n",
    "        if i[0] != i[1]:\n",
    "            edges_no_nodes.append(i)\n",
    "    return(edges_no_nodes)\n",
    "\n",
    "edges_cleaned = sort_the_edges(edges)\n",
    "edges_cleaned"
   ]
  },
  {
   "cell_type": "markdown",
   "metadata": {
    "deletable": true,
    "editable": true
   },
   "source": [
    "Just to check, we should have 669 edges in our dataset!"
   ]
  },
  {
   "cell_type": "code",
   "execution_count": null,
   "metadata": {
    "collapsed": false
   },
   "outputs": [],
   "source": [
    "len(edges_cleaned)"
   ]
  },
  {
   "cell_type": "markdown",
   "metadata": {},
   "source": [
    "## Create the Network and Visualize it\n",
    "\n",
    "We now have two datasets, **nodes** and **edges_cleaned**, that we can use to create our network and visualize the connections between the groups. Your job is to now implement NetworkX and create the network to examine the connections between the groups.\n",
    "\n",
    "#### Deliverable\n",
    "\n",
    "Using the methods discussed in the in class exercise, submit a Jupyter Notebook with the following:\n",
    "\n",
    "1. Drawn Network Graph of the nodes and edges of the Social Justice Groups\n",
    "2. A histogram of the Degree Distribution, with the number of Social Justice groups and the Number of First Degree Connections."
   ]
  },
  {
   "cell_type": "code",
   "execution_count": null,
   "metadata": {
    "collapsed": true,
    "deletable": true,
    "editable": true
   },
   "outputs": [],
   "source": [
    "# Your code here\n"
   ]
  },
  {
   "cell_type": "code",
   "execution_count": null,
   "metadata": {
    "collapsed": true,
    "deletable": true,
    "editable": true
   },
   "outputs": [],
   "source": []
  }
 ],
 "metadata": {
  "kernelspec": {
   "display_name": "Python 3",
   "language": "python",
   "name": "python3"
  },
  "language_info": {
   "codemirror_mode": {
    "name": "ipython",
    "version": 3
   },
   "file_extension": ".py",
   "mimetype": "text/x-python",
   "name": "python",
   "nbconvert_exporter": "python",
   "pygments_lexer": "ipython3",
   "version": "3.6.0"
  }
 },
 "nbformat": 4,
 "nbformat_minor": 0
}
